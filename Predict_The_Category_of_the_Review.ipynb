{
  "nbformat": 4,
  "nbformat_minor": 0,
  "metadata": {
    "colab": {
      "name": "Predict The Category of the Review.ipynb",
      "provenance": []
    },
    "kernelspec": {
      "name": "python3",
      "display_name": "Python 3"
    },
    "language_info": {
      "name": "python"
    }
  },
  "cells": [
    {
      "cell_type": "markdown",
      "source": [
        "# Predict The Category of the review Hackathon"
      ],
      "metadata": {
        "id": "rul1Ku4ib-TS"
      }
    },
    {
      "cell_type": "code",
      "source": [
        "# Dataset Available here ---> https://machinehack.com/hackathon/uhack_sentiments_20_decode_code_words/overview"
      ],
      "metadata": {
        "id": "4UHZ1x7cM1QC"
      },
      "execution_count": null,
      "outputs": []
    },
    {
      "cell_type": "code",
      "source": [
        "from google.colab import files\n",
        "uploaded = files.upload()"
      ],
      "metadata": {
        "colab": {
          "base_uri": "https://localhost:8080/",
          "resources": {
            "http://localhost:8080/nbextensions/google.colab/files.js": {
              "data": "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",
              "ok": true,
              "headers": [
                [
                  "content-type",
                  "application/javascript"
                ]
              ],
              "status": 200,
              "status_text": ""
            }
          },
          "height": 144
        },
        "id": "LAfkOPfyb87K",
        "outputId": "6bfdaba8-ac03-4d89-afef-56aeff5b1198"
      },
      "execution_count": null,
      "outputs": [
        {
          "output_type": "display_data",
          "data": {
            "text/html": [
              "\n",
              "     <input type=\"file\" id=\"files-8e56f084-72f5-44e7-a883-a957dfcff728\" name=\"files[]\" multiple disabled\n",
              "        style=\"border:none\" />\n",
              "     <output id=\"result-8e56f084-72f5-44e7-a883-a957dfcff728\">\n",
              "      Upload widget is only available when the cell has been executed in the\n",
              "      current browser session. Please rerun this cell to enable.\n",
              "      </output>\n",
              "      <script src=\"/nbextensions/google.colab/files.js\"></script> "
            ],
            "text/plain": [
              "<IPython.core.display.HTML object>"
            ]
          },
          "metadata": {}
        },
        {
          "output_type": "stream",
          "name": "stdout",
          "text": [
            "Saving submission.csv to submission.csv\n",
            "Saving test.csv to test.csv\n",
            "Saving train.csv to train.csv\n"
          ]
        }
      ]
    },
    {
      "cell_type": "code",
      "source": [
        "import pandas as pd\n",
        "import numpy as np"
      ],
      "metadata": {
        "id": "fv5c2uDucJFg"
      },
      "execution_count": null,
      "outputs": []
    },
    {
      "cell_type": "markdown",
      "source": [
        "## 1.Reading Data"
      ],
      "metadata": {
        "id": "W7Y8wuLMd9HS"
      }
    },
    {
      "cell_type": "code",
      "source": [
        "train = pd.read_csv('train.csv')\n",
        "test = pd.read_csv('test.csv')\n",
        "sub = pd.read_csv('submission.csv')\n",
        "\n",
        "train.shape, test.shape, sub.shape"
      ],
      "metadata": {
        "colab": {
          "base_uri": "https://localhost:8080/"
        },
        "id": "6eeAGGGhcJCh",
        "outputId": "119196d8-c5da-4735-afc6-35a87ff5102a"
      },
      "execution_count": null,
      "outputs": [
        {
          "output_type": "execute_result",
          "data": {
            "text/plain": [
              "((6136, 14), (2631, 14), (2631, 12))"
            ]
          },
          "metadata": {},
          "execution_count": 22
        }
      ]
    },
    {
      "cell_type": "code",
      "source": [
        "train.head(2)"
      ],
      "metadata": {
        "colab": {
          "base_uri": "https://localhost:8080/",
          "height": 402
        },
        "id": "rXYRfVOL6oe7",
        "outputId": "5abcad19-f85f-45ba-8107-d57beb382056"
      },
      "execution_count": null,
      "outputs": [
        {
          "output_type": "execute_result",
          "data": {
            "text/html": [
              "\n",
              "  <div id=\"df-ffc351ad-0118-4187-8d0d-1cac0d531fb3\">\n",
              "    <div class=\"colab-df-container\">\n",
              "      <div>\n",
              "<style scoped>\n",
              "    .dataframe tbody tr th:only-of-type {\n",
              "        vertical-align: middle;\n",
              "    }\n",
              "\n",
              "    .dataframe tbody tr th {\n",
              "        vertical-align: top;\n",
              "    }\n",
              "\n",
              "    .dataframe thead th {\n",
              "        text-align: right;\n",
              "    }\n",
              "</style>\n",
              "<table border=\"1\" class=\"dataframe\">\n",
              "  <thead>\n",
              "    <tr style=\"text-align: right;\">\n",
              "      <th></th>\n",
              "      <th>Id</th>\n",
              "      <th>Review</th>\n",
              "      <th>Components</th>\n",
              "      <th>Delivery and Customer Support</th>\n",
              "      <th>Design and Aesthetics</th>\n",
              "      <th>Dimensions</th>\n",
              "      <th>Features</th>\n",
              "      <th>Functionality</th>\n",
              "      <th>Installation</th>\n",
              "      <th>Material</th>\n",
              "      <th>Price</th>\n",
              "      <th>Quality</th>\n",
              "      <th>Usability</th>\n",
              "      <th>Polarity</th>\n",
              "    </tr>\n",
              "  </thead>\n",
              "  <tbody>\n",
              "    <tr>\n",
              "      <th>0</th>\n",
              "      <td>0</td>\n",
              "      <td>For some reason everybody complains and I'm co...</td>\n",
              "      <td>0</td>\n",
              "      <td>0</td>\n",
              "      <td>0</td>\n",
              "      <td>0</td>\n",
              "      <td>0</td>\n",
              "      <td>0</td>\n",
              "      <td>0</td>\n",
              "      <td>0</td>\n",
              "      <td>0</td>\n",
              "      <td>0</td>\n",
              "      <td>1</td>\n",
              "      <td>0</td>\n",
              "    </tr>\n",
              "    <tr>\n",
              "      <th>1</th>\n",
              "      <td>1</td>\n",
              "      <td>I like everything about it, great choice of sp...</td>\n",
              "      <td>0</td>\n",
              "      <td>0</td>\n",
              "      <td>0</td>\n",
              "      <td>0</td>\n",
              "      <td>1</td>\n",
              "      <td>1</td>\n",
              "      <td>0</td>\n",
              "      <td>0</td>\n",
              "      <td>0</td>\n",
              "      <td>0</td>\n",
              "      <td>0</td>\n",
              "      <td>1</td>\n",
              "    </tr>\n",
              "  </tbody>\n",
              "</table>\n",
              "</div>\n",
              "      <button class=\"colab-df-convert\" onclick=\"convertToInteractive('df-ffc351ad-0118-4187-8d0d-1cac0d531fb3')\"\n",
              "              title=\"Convert this dataframe to an interactive table.\"\n",
              "              style=\"display:none;\">\n",
              "        \n",
              "  <svg xmlns=\"http://www.w3.org/2000/svg\" height=\"24px\"viewBox=\"0 0 24 24\"\n",
              "       width=\"24px\">\n",
              "    <path d=\"M0 0h24v24H0V0z\" fill=\"none\"/>\n",
              "    <path d=\"M18.56 5.44l.94 2.06.94-2.06 2.06-.94-2.06-.94-.94-2.06-.94 2.06-2.06.94zm-11 1L8.5 8.5l.94-2.06 2.06-.94-2.06-.94L8.5 2.5l-.94 2.06-2.06.94zm10 10l.94 2.06.94-2.06 2.06-.94-2.06-.94-.94-2.06-.94 2.06-2.06.94z\"/><path d=\"M17.41 7.96l-1.37-1.37c-.4-.4-.92-.59-1.43-.59-.52 0-1.04.2-1.43.59L10.3 9.45l-7.72 7.72c-.78.78-.78 2.05 0 2.83L4 21.41c.39.39.9.59 1.41.59.51 0 1.02-.2 1.41-.59l7.78-7.78 2.81-2.81c.8-.78.8-2.07 0-2.86zM5.41 20L4 18.59l7.72-7.72 1.47 1.35L5.41 20z\"/>\n",
              "  </svg>\n",
              "      </button>\n",
              "      \n",
              "  <style>\n",
              "    .colab-df-container {\n",
              "      display:flex;\n",
              "      flex-wrap:wrap;\n",
              "      gap: 12px;\n",
              "    }\n",
              "\n",
              "    .colab-df-convert {\n",
              "      background-color: #E8F0FE;\n",
              "      border: none;\n",
              "      border-radius: 50%;\n",
              "      cursor: pointer;\n",
              "      display: none;\n",
              "      fill: #1967D2;\n",
              "      height: 32px;\n",
              "      padding: 0 0 0 0;\n",
              "      width: 32px;\n",
              "    }\n",
              "\n",
              "    .colab-df-convert:hover {\n",
              "      background-color: #E2EBFA;\n",
              "      box-shadow: 0px 1px 2px rgba(60, 64, 67, 0.3), 0px 1px 3px 1px rgba(60, 64, 67, 0.15);\n",
              "      fill: #174EA6;\n",
              "    }\n",
              "\n",
              "    [theme=dark] .colab-df-convert {\n",
              "      background-color: #3B4455;\n",
              "      fill: #D2E3FC;\n",
              "    }\n",
              "\n",
              "    [theme=dark] .colab-df-convert:hover {\n",
              "      background-color: #434B5C;\n",
              "      box-shadow: 0px 1px 3px 1px rgba(0, 0, 0, 0.15);\n",
              "      filter: drop-shadow(0px 1px 2px rgba(0, 0, 0, 0.3));\n",
              "      fill: #FFFFFF;\n",
              "    }\n",
              "  </style>\n",
              "\n",
              "      <script>\n",
              "        const buttonEl =\n",
              "          document.querySelector('#df-ffc351ad-0118-4187-8d0d-1cac0d531fb3 button.colab-df-convert');\n",
              "        buttonEl.style.display =\n",
              "          google.colab.kernel.accessAllowed ? 'block' : 'none';\n",
              "\n",
              "        async function convertToInteractive(key) {\n",
              "          const element = document.querySelector('#df-ffc351ad-0118-4187-8d0d-1cac0d531fb3');\n",
              "          const dataTable =\n",
              "            await google.colab.kernel.invokeFunction('convertToInteractive',\n",
              "                                                     [key], {});\n",
              "          if (!dataTable) return;\n",
              "\n",
              "          const docLinkHtml = 'Like what you see? Visit the ' +\n",
              "            '<a target=\"_blank\" href=https://colab.research.google.com/notebooks/data_table.ipynb>data table notebook</a>'\n",
              "            + ' to learn more about interactive tables.';\n",
              "          element.innerHTML = '';\n",
              "          dataTable['output_type'] = 'display_data';\n",
              "          await google.colab.output.renderOutput(dataTable, element);\n",
              "          const docLink = document.createElement('div');\n",
              "          docLink.innerHTML = docLinkHtml;\n",
              "          element.appendChild(docLink);\n",
              "        }\n",
              "      </script>\n",
              "    </div>\n",
              "  </div>\n",
              "  "
            ],
            "text/plain": [
              "   Id                                             Review  ...  Usability  Polarity\n",
              "0   0  For some reason everybody complains and I'm co...  ...          1         0\n",
              "1   1  I like everything about it, great choice of sp...  ...          0         1\n",
              "\n",
              "[2 rows x 14 columns]"
            ]
          },
          "metadata": {},
          "execution_count": 23
        }
      ]
    },
    {
      "cell_type": "markdown",
      "source": [
        "## 2.Data PreProcessing"
      ],
      "metadata": {
        "id": "Yw84k1GHeNNK"
      }
    },
    {
      "cell_type": "code",
      "source": [
        "import numpy as np\n",
        "import pandas as pd\n",
        "\n",
        "from pathlib import Path\n",
        "from typing import *\n",
        "\n",
        "import torch\n",
        "import torch.optim as optim"
      ],
      "metadata": {
        "id": "xn-PHV1jcI-B"
      },
      "execution_count": null,
      "outputs": []
    },
    {
      "cell_type": "code",
      "source": [
        "from nltk.corpus import stopwords\n",
        "import nltk\n",
        "nltk.download('stopwords')\n",
        "stop = stopwords.words('english')"
      ],
      "metadata": {
        "colab": {
          "base_uri": "https://localhost:8080/"
        },
        "id": "5JD7EqG_GUeR",
        "outputId": "3798734a-2194-427d-a23c-f7f2d5f25f19"
      },
      "execution_count": null,
      "outputs": [
        {
          "output_type": "stream",
          "name": "stdout",
          "text": [
            "[nltk_data] Downloading package stopwords to /root/nltk_data...\n",
            "[nltk_data]   Package stopwords is already up-to-date!\n"
          ]
        }
      ]
    },
    {
      "cell_type": "code",
      "source": [
        ""
      ],
      "metadata": {
        "id": "k78cP4CkD5wM"
      },
      "execution_count": null,
      "outputs": []
    },
    {
      "cell_type": "code",
      "source": [
        "import re\n",
        "import itertools\n",
        "def remove_noise(text):\n",
        "    # Make lowercase\n",
        "    text = text.apply(lambda x: \" \".join(x.lower() for x in x.split()))\n",
        "    \n",
        "    # Remove whitespaces\n",
        "    text = text.apply(lambda x: \" \".join(x.strip() for x in x.split()))\n",
        "    \n",
        "    # Convert to string\n",
        "    text = text.astype(str)\n",
        "    text = text.apply(lambda x: ' '.join([word for word in x.split() if word not in (stop)]))\n",
        "        \n",
        "    return text"
      ],
      "metadata": {
        "id": "9-d2ksSwcIyx"
      },
      "execution_count": null,
      "outputs": []
    },
    {
      "cell_type": "code",
      "source": [
        "train.head()"
      ],
      "metadata": {
        "colab": {
          "base_uri": "https://localhost:8080/",
          "height": 687
        },
        "id": "vhD9-gLzGquq",
        "outputId": "a7657900-d93b-4b2a-e858-e4d264043f5b"
      },
      "execution_count": null,
      "outputs": [
        {
          "output_type": "execute_result",
          "data": {
            "text/html": [
              "\n",
              "  <div id=\"df-71af3966-a9cc-4aa0-a661-c26d7592c10b\">\n",
              "    <div class=\"colab-df-container\">\n",
              "      <div>\n",
              "<style scoped>\n",
              "    .dataframe tbody tr th:only-of-type {\n",
              "        vertical-align: middle;\n",
              "    }\n",
              "\n",
              "    .dataframe tbody tr th {\n",
              "        vertical-align: top;\n",
              "    }\n",
              "\n",
              "    .dataframe thead th {\n",
              "        text-align: right;\n",
              "    }\n",
              "</style>\n",
              "<table border=\"1\" class=\"dataframe\">\n",
              "  <thead>\n",
              "    <tr style=\"text-align: right;\">\n",
              "      <th></th>\n",
              "      <th>Id</th>\n",
              "      <th>Review</th>\n",
              "      <th>Components</th>\n",
              "      <th>Delivery and Customer Support</th>\n",
              "      <th>Design and Aesthetics</th>\n",
              "      <th>Dimensions</th>\n",
              "      <th>Features</th>\n",
              "      <th>Functionality</th>\n",
              "      <th>Installation</th>\n",
              "      <th>Material</th>\n",
              "      <th>Price</th>\n",
              "      <th>Quality</th>\n",
              "      <th>Usability</th>\n",
              "      <th>Polarity</th>\n",
              "    </tr>\n",
              "  </thead>\n",
              "  <tbody>\n",
              "    <tr>\n",
              "      <th>0</th>\n",
              "      <td>0</td>\n",
              "      <td>For some reason everybody complains and I'm co...</td>\n",
              "      <td>0</td>\n",
              "      <td>0</td>\n",
              "      <td>0</td>\n",
              "      <td>0</td>\n",
              "      <td>0</td>\n",
              "      <td>0</td>\n",
              "      <td>0</td>\n",
              "      <td>0</td>\n",
              "      <td>0</td>\n",
              "      <td>0</td>\n",
              "      <td>1</td>\n",
              "      <td>0</td>\n",
              "    </tr>\n",
              "    <tr>\n",
              "      <th>1</th>\n",
              "      <td>1</td>\n",
              "      <td>I like everything about it, great choice of sp...</td>\n",
              "      <td>0</td>\n",
              "      <td>0</td>\n",
              "      <td>0</td>\n",
              "      <td>0</td>\n",
              "      <td>1</td>\n",
              "      <td>1</td>\n",
              "      <td>0</td>\n",
              "      <td>0</td>\n",
              "      <td>0</td>\n",
              "      <td>0</td>\n",
              "      <td>0</td>\n",
              "      <td>1</td>\n",
              "    </tr>\n",
              "    <tr>\n",
              "      <th>2</th>\n",
              "      <td>2</td>\n",
              "      <td>Excellent ceiling fan brace. Easy to install a...</td>\n",
              "      <td>0</td>\n",
              "      <td>0</td>\n",
              "      <td>0</td>\n",
              "      <td>0</td>\n",
              "      <td>0</td>\n",
              "      <td>0</td>\n",
              "      <td>1</td>\n",
              "      <td>0</td>\n",
              "      <td>0</td>\n",
              "      <td>1</td>\n",
              "      <td>0</td>\n",
              "      <td>1</td>\n",
              "    </tr>\n",
              "    <tr>\n",
              "      <th>3</th>\n",
              "      <td>3</td>\n",
              "      <td>Work great easy to use . No issues at all with...</td>\n",
              "      <td>0</td>\n",
              "      <td>0</td>\n",
              "      <td>0</td>\n",
              "      <td>0</td>\n",
              "      <td>0</td>\n",
              "      <td>1</td>\n",
              "      <td>0</td>\n",
              "      <td>0</td>\n",
              "      <td>0</td>\n",
              "      <td>0</td>\n",
              "      <td>1</td>\n",
              "      <td>1</td>\n",
              "    </tr>\n",
              "    <tr>\n",
              "      <th>4</th>\n",
              "      <td>4</td>\n",
              "      <td>I would recommend this product because it is p...</td>\n",
              "      <td>0</td>\n",
              "      <td>0</td>\n",
              "      <td>0</td>\n",
              "      <td>0</td>\n",
              "      <td>0</td>\n",
              "      <td>0</td>\n",
              "      <td>0</td>\n",
              "      <td>0</td>\n",
              "      <td>0</td>\n",
              "      <td>1</td>\n",
              "      <td>0</td>\n",
              "      <td>1</td>\n",
              "    </tr>\n",
              "  </tbody>\n",
              "</table>\n",
              "</div>\n",
              "      <button class=\"colab-df-convert\" onclick=\"convertToInteractive('df-71af3966-a9cc-4aa0-a661-c26d7592c10b')\"\n",
              "              title=\"Convert this dataframe to an interactive table.\"\n",
              "              style=\"display:none;\">\n",
              "        \n",
              "  <svg xmlns=\"http://www.w3.org/2000/svg\" height=\"24px\"viewBox=\"0 0 24 24\"\n",
              "       width=\"24px\">\n",
              "    <path d=\"M0 0h24v24H0V0z\" fill=\"none\"/>\n",
              "    <path d=\"M18.56 5.44l.94 2.06.94-2.06 2.06-.94-2.06-.94-.94-2.06-.94 2.06-2.06.94zm-11 1L8.5 8.5l.94-2.06 2.06-.94-2.06-.94L8.5 2.5l-.94 2.06-2.06.94zm10 10l.94 2.06.94-2.06 2.06-.94-2.06-.94-.94-2.06-.94 2.06-2.06.94z\"/><path d=\"M17.41 7.96l-1.37-1.37c-.4-.4-.92-.59-1.43-.59-.52 0-1.04.2-1.43.59L10.3 9.45l-7.72 7.72c-.78.78-.78 2.05 0 2.83L4 21.41c.39.39.9.59 1.41.59.51 0 1.02-.2 1.41-.59l7.78-7.78 2.81-2.81c.8-.78.8-2.07 0-2.86zM5.41 20L4 18.59l7.72-7.72 1.47 1.35L5.41 20z\"/>\n",
              "  </svg>\n",
              "      </button>\n",
              "      \n",
              "  <style>\n",
              "    .colab-df-container {\n",
              "      display:flex;\n",
              "      flex-wrap:wrap;\n",
              "      gap: 12px;\n",
              "    }\n",
              "\n",
              "    .colab-df-convert {\n",
              "      background-color: #E8F0FE;\n",
              "      border: none;\n",
              "      border-radius: 50%;\n",
              "      cursor: pointer;\n",
              "      display: none;\n",
              "      fill: #1967D2;\n",
              "      height: 32px;\n",
              "      padding: 0 0 0 0;\n",
              "      width: 32px;\n",
              "    }\n",
              "\n",
              "    .colab-df-convert:hover {\n",
              "      background-color: #E2EBFA;\n",
              "      box-shadow: 0px 1px 2px rgba(60, 64, 67, 0.3), 0px 1px 3px 1px rgba(60, 64, 67, 0.15);\n",
              "      fill: #174EA6;\n",
              "    }\n",
              "\n",
              "    [theme=dark] .colab-df-convert {\n",
              "      background-color: #3B4455;\n",
              "      fill: #D2E3FC;\n",
              "    }\n",
              "\n",
              "    [theme=dark] .colab-df-convert:hover {\n",
              "      background-color: #434B5C;\n",
              "      box-shadow: 0px 1px 3px 1px rgba(0, 0, 0, 0.15);\n",
              "      filter: drop-shadow(0px 1px 2px rgba(0, 0, 0, 0.3));\n",
              "      fill: #FFFFFF;\n",
              "    }\n",
              "  </style>\n",
              "\n",
              "      <script>\n",
              "        const buttonEl =\n",
              "          document.querySelector('#df-71af3966-a9cc-4aa0-a661-c26d7592c10b button.colab-df-convert');\n",
              "        buttonEl.style.display =\n",
              "          google.colab.kernel.accessAllowed ? 'block' : 'none';\n",
              "\n",
              "        async function convertToInteractive(key) {\n",
              "          const element = document.querySelector('#df-71af3966-a9cc-4aa0-a661-c26d7592c10b');\n",
              "          const dataTable =\n",
              "            await google.colab.kernel.invokeFunction('convertToInteractive',\n",
              "                                                     [key], {});\n",
              "          if (!dataTable) return;\n",
              "\n",
              "          const docLinkHtml = 'Like what you see? Visit the ' +\n",
              "            '<a target=\"_blank\" href=https://colab.research.google.com/notebooks/data_table.ipynb>data table notebook</a>'\n",
              "            + ' to learn more about interactive tables.';\n",
              "          element.innerHTML = '';\n",
              "          dataTable['output_type'] = 'display_data';\n",
              "          await google.colab.output.renderOutput(dataTable, element);\n",
              "          const docLink = document.createElement('div');\n",
              "          docLink.innerHTML = docLinkHtml;\n",
              "          element.appendChild(docLink);\n",
              "        }\n",
              "      </script>\n",
              "    </div>\n",
              "  </div>\n",
              "  "
            ],
            "text/plain": [
              "   Id                                             Review  ...  Usability  Polarity\n",
              "0   0  For some reason everybody complains and I'm co...  ...          1         0\n",
              "1   1  I like everything about it, great choice of sp...  ...          0         1\n",
              "2   2  Excellent ceiling fan brace. Easy to install a...  ...          0         1\n",
              "3   3  Work great easy to use . No issues at all with...  ...          1         1\n",
              "4   4  I would recommend this product because it is p...  ...          0         1\n",
              "\n",
              "[5 rows x 14 columns]"
            ]
          },
          "metadata": {},
          "execution_count": 27
        }
      ]
    },
    {
      "cell_type": "code",
      "source": [
        "train['Review']"
      ],
      "metadata": {
        "colab": {
          "base_uri": "https://localhost:8080/"
        },
        "id": "xBwpz1KV4aae",
        "outputId": "0b0c505c-5917-49ac-a65b-fcf10979fbfb"
      },
      "execution_count": null,
      "outputs": [
        {
          "output_type": "execute_result",
          "data": {
            "text/plain": [
              "0       For some reason everybody complains and I'm co...\n",
              "1       I like everything about it, great choice of sp...\n",
              "2       Excellent ceiling fan brace. Easy to install a...\n",
              "3       Work great easy to use . No issues at all with...\n",
              "4       I would recommend this product because it is p...\n",
              "                              ...                        \n",
              "6131    Easy to install. Just be careful with the razo...\n",
              "6132    Got a big pup and she had to learn about scree...\n",
              "6133    We installed our Nest cam system a little over...\n",
              "6134    this is a below average camera . The only thin...\n",
              "6135                      So easy to install amd operate.\n",
              "Name: Review, Length: 6136, dtype: object"
            ]
          },
          "metadata": {},
          "execution_count": 28
        }
      ]
    },
    {
      "cell_type": "code",
      "source": [
        "train['Review'] = remove_noise(train['Review'])\n",
        "test['Review'] = remove_noise(test['Review'])"
      ],
      "metadata": {
        "id": "7zKMQIn6cIwJ"
      },
      "execution_count": null,
      "outputs": []
    },
    {
      "cell_type": "code",
      "source": [
        "train['Review']"
      ],
      "metadata": {
        "colab": {
          "base_uri": "https://localhost:8080/"
        },
        "id": "YUEptp6Y4Vx3",
        "outputId": "d7306119-3ff4-4452-f670-2912b9b7b9d7"
      },
      "execution_count": null,
      "outputs": [
        {
          "output_type": "execute_result",
          "data": {
            "text/plain": [
              "0       reason everybody complains i'm complaining toi...\n",
              "1       like everything it, great choice spray pattern...\n",
              "2       excellent ceiling fan brace. easy install well...\n",
              "3                work great easy use . issues hanging fan\n",
              "4       would recommend product perfect watering hangi...\n",
              "                              ...                        \n",
              "6131    easy install. careful razor trimming excess. e...\n",
              "6132    got big pup learn screen doors. fixed puncture...\n",
              "6133    installed nest cam system little month ago alr...\n",
              "6134    average camera . thing say decent comparison k...\n",
              "6135                            easy install amd operate.\n",
              "Name: Review, Length: 6136, dtype: object"
            ]
          },
          "metadata": {},
          "execution_count": 30
        }
      ]
    },
    {
      "cell_type": "markdown",
      "source": [
        "## 3.Feature Engineering"
      ],
      "metadata": {
        "id": "9LH-8geVeeXw"
      }
    },
    {
      "cell_type": "code",
      "source": [
        "from nltk.tokenize import WordPunctTokenizer\n",
        "from sklearn.feature_extraction.text import CountVectorizer\n",
        "from sklearn.feature_extraction.text import TfidfVectorizer"
      ],
      "metadata": {
        "id": "SjAXER0ecItp"
      },
      "execution_count": null,
      "outputs": []
    },
    {
      "cell_type": "code",
      "source": [
        "tt = WordPunctTokenizer()"
      ],
      "metadata": {
        "id": "BbGKs3ZtcIq5"
      },
      "execution_count": null,
      "outputs": []
    },
    {
      "cell_type": "code",
      "source": [
        "cv = CountVectorizer(tokenizer=tt.tokenize, stop_words='english', ngram_range=(1,5))\n",
        "\n",
        "cv.fit(train.Review.tolist() + test.Review.tolist())\n",
        "train_cv = cv.transform(train.Review)\n",
        "test_cv = cv.transform(test.Review)"
      ],
      "metadata": {
        "colab": {
          "base_uri": "https://localhost:8080/"
        },
        "id": "mcLndKTXcIoJ",
        "outputId": "f20ea808-2287-46a4-db01-345c10fe9d2a"
      },
      "execution_count": null,
      "outputs": [
        {
          "output_type": "stream",
          "name": "stderr",
          "text": [
            "/usr/local/lib/python3.7/dist-packages/sklearn/feature_extraction/text.py:517: UserWarning: The parameter 'token_pattern' will not be used since 'tokenizer' is not None'\n",
            "  \"The parameter 'token_pattern' will not be used\"\n"
          ]
        }
      ]
    },
    {
      "cell_type": "code",
      "source": [
        "tf_idf = TfidfVectorizer(min_df=5,  max_features=None, \n",
        "            strip_accents='unicode', analyzer='word', token_pattern=r'\\w{1,}',\n",
        "            ngram_range=(1, 5), use_idf=1.0,smooth_idf=1.0,sublinear_tf=1.0,\n",
        "            stop_words = 'english')\n",
        "\n",
        "tf_idf.fit(train.Review.tolist() + test.Review.tolist())\n",
        "train_tf = tf_idf.transform(train.Review)\n",
        "test_tf = tf_idf.transform(test.Review)"
      ],
      "metadata": {
        "id": "8vzUPN4pcIlB"
      },
      "execution_count": null,
      "outputs": []
    },
    {
      "cell_type": "markdown",
      "source": [
        "## 3.Modeling"
      ],
      "metadata": {
        "id": "8J7Nyo12exji"
      }
    },
    {
      "cell_type": "code",
      "source": [
        "from sklearn.linear_model import LogisticRegression, LogisticRegressionCV\n",
        "from sklearn.naive_bayes import MultinomialNB, BernoulliNB\n",
        "from sklearn.svm import SVC"
      ],
      "metadata": {
        "id": "kbY8syFTcIiD"
      },
      "execution_count": null,
      "outputs": []
    },
    {
      "cell_type": "code",
      "source": [
        "from scipy.stats.mstats import mode"
      ],
      "metadata": {
        "id": "hm0dCeeN5Rh_"
      },
      "execution_count": null,
      "outputs": []
    },
    {
      "cell_type": "code",
      "source": [
        "#Components\n",
        "best_params = {'C': 0.9, 'max_iter': 100, 'multi_class': 'ovr', 'penalty': 'l2'}\n",
        "m = LogisticRegression(**best_params, class_weight='balanced')\n",
        "m.fit(train_cv, train.Components)\n",
        "\n",
        "best_params = {'alpha': 0.5}\n",
        "nb = MultinomialNB(**best_params)\n",
        "nb.fit(train_cv, train.Components)\n",
        "\n",
        "best_params = {'alpha': 5e-08}\n",
        "nb2 = BernoulliNB(**best_params)\n",
        "nb2.fit(train_cv, train.Components)\n",
        "\n",
        "best_params = {'C': 250, 'max_iter': 100, 'multi_class': 'ovr', 'penalty': 'l2'}\n",
        "m_tf = LogisticRegression(**best_params, class_weight='balanced')\n",
        "m_tf.fit(train_tf, train.Components)\n",
        "\n",
        "best_params = {'alpha': 0.06}\n",
        "nb_tf = MultinomialNB(**best_params)\n",
        "nb_tf.fit(train_tf, train.Components)\n",
        "\n",
        "best_params = {'kernel': 'linear', 'C': 1}\n",
        "svc_tf = SVC(**best_params, class_weight='balanced', probability=True)\n",
        "svc_tf.fit(train_tf, train.Components)\n",
        "\n",
        "\n",
        "\n",
        "pred1 = m.predict_proba(test_cv)\n",
        "pred2 = nb.predict_proba(test_cv)\n",
        "pred3 = nb2.predict_proba(test_cv)\n",
        "pred4 = m_tf.predict_proba(test_tf)\n",
        "pred5 = nb_tf.predict_proba(test_tf)\n",
        "pred6 = svc_tf.predict_proba(test_tf)\n",
        "\n",
        "test_pred_prob = np.mean([pred1, pred2, pred3, pred4, pred5, pred6], axis=0)\n",
        "pred_Components = np.argmax(test_pred_prob, axis=1)"
      ],
      "metadata": {
        "colab": {
          "base_uri": "https://localhost:8080/"
        },
        "id": "XbGva65McIfB",
        "outputId": "9cf7eda3-f35b-4fbe-9fb6-5a9f3f0d1bb4"
      },
      "execution_count": null,
      "outputs": [
        {
          "output_type": "stream",
          "name": "stderr",
          "text": [
            "/usr/local/lib/python3.7/dist-packages/sklearn/linear_model/_logistic.py:818: ConvergenceWarning: lbfgs failed to converge (status=1):\n",
            "STOP: TOTAL NO. of ITERATIONS REACHED LIMIT.\n",
            "\n",
            "Increase the number of iterations (max_iter) or scale the data as shown in:\n",
            "    https://scikit-learn.org/stable/modules/preprocessing.html\n",
            "Please also refer to the documentation for alternative solver options:\n",
            "    https://scikit-learn.org/stable/modules/linear_model.html#logistic-regression\n",
            "  extra_warning_msg=_LOGISTIC_SOLVER_CONVERGENCE_MSG,\n"
          ]
        }
      ]
    },
    {
      "cell_type": "code",
      "source": [
        "pred_Components"
      ],
      "metadata": {
        "colab": {
          "base_uri": "https://localhost:8080/"
        },
        "id": "7GXSDKCn7MeZ",
        "outputId": "7de9aa67-ef41-4f69-b9b8-81e6f6b85673"
      },
      "execution_count": null,
      "outputs": [
        {
          "output_type": "execute_result",
          "data": {
            "text/plain": [
              "array([1, 0, 0, ..., 0, 0, 0])"
            ]
          },
          "metadata": {},
          "execution_count": 38
        }
      ]
    },
    {
      "cell_type": "code",
      "source": [
        "train.columns = ['Id', 'Review', 'Components', 'Delivery_Customer_Support',\n",
        "       'Design_Aesthetics', 'Dimensions', 'Features', 'Functionality',\n",
        "       'Installation', 'Material', 'Price', 'Quality', 'Usability',\n",
        "       'Polarity']"
      ],
      "metadata": {
        "id": "gTST9C5i9WEY"
      },
      "execution_count": null,
      "outputs": []
    },
    {
      "cell_type": "code",
      "source": [
        "#Delvery and Customer Support \n",
        "best_params = {'C': 0.9, 'max_iter': 100, 'multi_class': 'ovr', 'penalty': 'l2'}\n",
        "m = LogisticRegression(**best_params, class_weight='balanced')\n",
        "m.fit(train_cv, train.Delivery_Customer_Support)\n",
        "\n",
        "best_params = {'alpha': 0.5}\n",
        "nb = MultinomialNB(**best_params)\n",
        "nb.fit(train_cv, train.Delivery_Customer_Support)\n",
        "\n",
        "best_params = {'alpha': 5e-08}\n",
        "nb2 = BernoulliNB(**best_params)\n",
        "nb2.fit(train_cv, train.Delivery_Customer_Support)\n",
        "\n",
        "best_params = {'C': 250, 'max_iter': 100, 'multi_class': 'ovr', 'penalty': 'l2'}\n",
        "m_tf = LogisticRegression(**best_params, class_weight='balanced')\n",
        "m_tf.fit(train_tf, train.Delivery_Customer_Support)\n",
        "\n",
        "best_params = {'alpha': 0.06}\n",
        "nb_tf = MultinomialNB(**best_params)\n",
        "nb_tf.fit(train_tf, train.Delivery_Customer_Support)\n",
        "\n",
        "best_params = {'kernel': 'linear', 'C': 1}\n",
        "svc_tf = SVC(**best_params, class_weight='balanced', probability=True)\n",
        "svc_tf.fit(train_tf, train.Delivery_Customer_Support)\n",
        "\n",
        "\n",
        "\n",
        "pred1 = m.predict_proba(test_cv)\n",
        "pred2 = nb.predict_proba(test_cv)\n",
        "pred3 = nb2.predict_proba(test_cv)\n",
        "pred4 = m_tf.predict_proba(test_tf)\n",
        "pred5 = nb_tf.predict_proba(test_tf)\n",
        "pred6 = svc_tf.predict_proba(test_tf)\n",
        "\n",
        "test_pred_prob = np.mean([pred1, pred2, pred3, pred4, pred5, pred6], axis=0)\n",
        "pred_Delivery_Customer_Support = np.argmax(test_pred_prob, axis=1)"
      ],
      "metadata": {
        "id": "pkjEPPgocIbx",
        "colab": {
          "base_uri": "https://localhost:8080/"
        },
        "outputId": "d0976ffa-a4a1-4e24-bd99-80200de85940"
      },
      "execution_count": null,
      "outputs": [
        {
          "output_type": "stream",
          "name": "stderr",
          "text": [
            "/usr/local/lib/python3.7/dist-packages/sklearn/linear_model/_logistic.py:818: ConvergenceWarning: lbfgs failed to converge (status=1):\n",
            "STOP: TOTAL NO. of ITERATIONS REACHED LIMIT.\n",
            "\n",
            "Increase the number of iterations (max_iter) or scale the data as shown in:\n",
            "    https://scikit-learn.org/stable/modules/preprocessing.html\n",
            "Please also refer to the documentation for alternative solver options:\n",
            "    https://scikit-learn.org/stable/modules/linear_model.html#logistic-regression\n",
            "  extra_warning_msg=_LOGISTIC_SOLVER_CONVERGENCE_MSG,\n"
          ]
        }
      ]
    },
    {
      "cell_type": "code",
      "source": [
        "#Design \n",
        "best_params = {'C': 0.9, 'max_iter': 100, 'multi_class': 'ovr', 'penalty': 'l2'}\n",
        "m = LogisticRegression(**best_params, class_weight='balanced')\n",
        "m.fit(train_cv, train.Design_Aesthetics)\n",
        "\n",
        "best_params = {'alpha': 0.5}\n",
        "nb = MultinomialNB(**best_params)\n",
        "nb.fit(train_cv, train.Design_Aesthetics)\n",
        "\n",
        "best_params = {'alpha': 5e-08}\n",
        "nb2 = BernoulliNB(**best_params)\n",
        "nb2.fit(train_cv, train.Design_Aesthetics)\n",
        "\n",
        "best_params = {'C': 250, 'max_iter': 100, 'multi_class': 'ovr', 'penalty': 'l2'}\n",
        "m_tf = LogisticRegression(**best_params, class_weight='balanced')\n",
        "m_tf.fit(train_tf, train.Design_Aesthetics)\n",
        "\n",
        "best_params = {'alpha': 0.06}\n",
        "nb_tf = MultinomialNB(**best_params)\n",
        "nb_tf.fit(train_tf, train.Design_Aesthetics)\n",
        "\n",
        "best_params = {'kernel': 'linear', 'C': 1}\n",
        "svc_tf = SVC(**best_params, class_weight='balanced', probability=True)\n",
        "svc_tf.fit(train_tf, train.Design_Aesthetics)\n",
        "\n",
        "\n",
        "\n",
        "pred1 = m.predict_proba(test_cv)\n",
        "pred2 = nb.predict_proba(test_cv)\n",
        "pred3 = nb2.predict_proba(test_cv)\n",
        "pred4 = m_tf.predict_proba(test_tf)\n",
        "pred5 = nb_tf.predict_proba(test_tf)\n",
        "pred6 = svc_tf.predict_proba(test_tf)\n",
        "\n",
        "test_pred_prob = np.mean([pred1, pred2, pred3, pred4, pred5, pred6], axis=0)\n",
        "pred_Design_Aesthetics = np.argmax(test_pred_prob, axis=1)"
      ],
      "metadata": {
        "colab": {
          "base_uri": "https://localhost:8080/"
        },
        "id": "H6Ux3sUq5YYv",
        "outputId": "15200e37-26d2-45b7-cd2b-30e6ccc86ab1"
      },
      "execution_count": null,
      "outputs": [
        {
          "output_type": "stream",
          "name": "stderr",
          "text": [
            "/usr/local/lib/python3.7/dist-packages/sklearn/linear_model/_logistic.py:818: ConvergenceWarning: lbfgs failed to converge (status=1):\n",
            "STOP: TOTAL NO. of ITERATIONS REACHED LIMIT.\n",
            "\n",
            "Increase the number of iterations (max_iter) or scale the data as shown in:\n",
            "    https://scikit-learn.org/stable/modules/preprocessing.html\n",
            "Please also refer to the documentation for alternative solver options:\n",
            "    https://scikit-learn.org/stable/modules/linear_model.html#logistic-regression\n",
            "  extra_warning_msg=_LOGISTIC_SOLVER_CONVERGENCE_MSG,\n"
          ]
        }
      ]
    },
    {
      "cell_type": "code",
      "source": [
        "#Dimension \n",
        "best_params = {'C': 0.9, 'max_iter': 100, 'multi_class': 'ovr', 'penalty': 'l2'}\n",
        "m = LogisticRegression(**best_params, class_weight='balanced')\n",
        "m.fit(train_cv, train.Dimensions)\n",
        "\n",
        "best_params = {'alpha': 0.5}\n",
        "nb = MultinomialNB(**best_params)\n",
        "nb.fit(train_cv, train.Dimensions)\n",
        "\n",
        "best_params = {'alpha': 5e-08}\n",
        "nb2 = BernoulliNB(**best_params)\n",
        "nb2.fit(train_cv, train.Dimensions)\n",
        "\n",
        "best_params = {'C': 250, 'max_iter': 100, 'multi_class': 'ovr', 'penalty': 'l2'}\n",
        "m_tf = LogisticRegression(**best_params, class_weight='balanced')\n",
        "m_tf.fit(train_tf, train.Dimensions)\n",
        "\n",
        "best_params = {'alpha': 0.06}\n",
        "nb_tf = MultinomialNB(**best_params)\n",
        "nb_tf.fit(train_tf, train.Dimensions)\n",
        "\n",
        "best_params = {'kernel': 'linear', 'C': 1}\n",
        "svc_tf = SVC(**best_params, class_weight='balanced', probability=True)\n",
        "svc_tf.fit(train_tf, train.Dimensions)\n",
        "\n",
        "\n",
        "\n",
        "pred1 = m.predict_proba(test_cv)\n",
        "pred2 = nb.predict_proba(test_cv)\n",
        "pred3 = nb2.predict_proba(test_cv)\n",
        "pred4 = m_tf.predict_proba(test_tf)\n",
        "pred5 = nb_tf.predict_proba(test_tf)\n",
        "pred6 = svc_tf.predict_proba(test_tf)\n",
        "\n",
        "test_pred_prob = np.mean([pred1, pred2, pred3, pred4, pred5, pred6], axis=0)\n",
        "pred_Dimensions = np.argmax(test_pred_prob, axis=1)"
      ],
      "metadata": {
        "colab": {
          "base_uri": "https://localhost:8080/"
        },
        "id": "PqFeGTIQ5bQG",
        "outputId": "c3152413-1097-4218-ffd8-4e4edb16636b"
      },
      "execution_count": null,
      "outputs": [
        {
          "output_type": "stream",
          "name": "stderr",
          "text": [
            "/usr/local/lib/python3.7/dist-packages/sklearn/linear_model/_logistic.py:818: ConvergenceWarning: lbfgs failed to converge (status=1):\n",
            "STOP: TOTAL NO. of ITERATIONS REACHED LIMIT.\n",
            "\n",
            "Increase the number of iterations (max_iter) or scale the data as shown in:\n",
            "    https://scikit-learn.org/stable/modules/preprocessing.html\n",
            "Please also refer to the documentation for alternative solver options:\n",
            "    https://scikit-learn.org/stable/modules/linear_model.html#logistic-regression\n",
            "  extra_warning_msg=_LOGISTIC_SOLVER_CONVERGENCE_MSG,\n"
          ]
        }
      ]
    },
    {
      "cell_type": "code",
      "source": [
        "#Features\n",
        "best_params = {'C': 0.9, 'max_iter': 100, 'multi_class': 'ovr', 'penalty': 'l2'}\n",
        "m = LogisticRegression(**best_params, class_weight='balanced')\n",
        "m.fit(train_cv, train.Features)\n",
        "\n",
        "best_params = {'alpha': 0.5}\n",
        "nb = MultinomialNB(**best_params)\n",
        "nb.fit(train_cv, train.Features)\n",
        "\n",
        "best_params = {'alpha': 5e-08}\n",
        "nb2 = BernoulliNB(**best_params)\n",
        "nb2.fit(train_cv, train.Features)\n",
        "\n",
        "best_params = {'C': 250, 'max_iter': 100, 'multi_class': 'ovr', 'penalty': 'l2'}\n",
        "m_tf = LogisticRegression(**best_params, class_weight='balanced')\n",
        "m_tf.fit(train_tf, train.Features)\n",
        "\n",
        "best_params = {'alpha': 0.06}\n",
        "nb_tf = MultinomialNB(**best_params)\n",
        "nb_tf.fit(train_tf, train.Features)\n",
        "\n",
        "best_params = {'kernel': 'linear', 'C': 1}\n",
        "svc_tf = SVC(**best_params, class_weight='balanced', probability=True)\n",
        "svc_tf.fit(train_tf, train.Features)\n",
        "\n",
        "\n",
        "\n",
        "pred1 = m.predict_proba(test_cv)\n",
        "pred2 = nb.predict_proba(test_cv)\n",
        "pred3 = nb2.predict_proba(test_cv)\n",
        "pred4 = m_tf.predict_proba(test_tf)\n",
        "pred5 = nb_tf.predict_proba(test_tf)\n",
        "pred6 = svc_tf.predict_proba(test_tf)\n",
        "\n",
        "test_pred_prob = np.mean([pred1, pred2, pred3, pred4, pred5, pred6], axis=0)\n",
        "pred_Features = np.argmax(test_pred_prob, axis=1)"
      ],
      "metadata": {
        "colab": {
          "base_uri": "https://localhost:8080/"
        },
        "id": "_rN7_Hsj5d4t",
        "outputId": "cc30d165-a5be-467e-b7cc-b859cf2c4404"
      },
      "execution_count": null,
      "outputs": [
        {
          "output_type": "stream",
          "name": "stderr",
          "text": [
            "/usr/local/lib/python3.7/dist-packages/sklearn/linear_model/_logistic.py:818: ConvergenceWarning: lbfgs failed to converge (status=1):\n",
            "STOP: TOTAL NO. of ITERATIONS REACHED LIMIT.\n",
            "\n",
            "Increase the number of iterations (max_iter) or scale the data as shown in:\n",
            "    https://scikit-learn.org/stable/modules/preprocessing.html\n",
            "Please also refer to the documentation for alternative solver options:\n",
            "    https://scikit-learn.org/stable/modules/linear_model.html#logistic-regression\n",
            "  extra_warning_msg=_LOGISTIC_SOLVER_CONVERGENCE_MSG,\n"
          ]
        }
      ]
    },
    {
      "cell_type": "code",
      "source": [
        "#Functionality\n",
        "best_params = {'C': 0.9, 'max_iter': 100, 'multi_class': 'ovr', 'penalty': 'l2'}\n",
        "m = LogisticRegression(**best_params, class_weight='balanced')\n",
        "m.fit(train_cv, train.Functionality)\n",
        "\n",
        "best_params = {'alpha': 0.5}\n",
        "nb = MultinomialNB(**best_params)\n",
        "nb.fit(train_cv, train.Functionality)\n",
        "\n",
        "best_params = {'alpha': 5e-08}\n",
        "nb2 = BernoulliNB(**best_params)\n",
        "nb2.fit(train_cv, train.Functionality)\n",
        "\n",
        "best_params = {'C': 250, 'max_iter': 100, 'multi_class': 'ovr', 'penalty': 'l2'}\n",
        "m_tf = LogisticRegression(**best_params, class_weight='balanced')\n",
        "m_tf.fit(train_tf, train.Functionality)\n",
        "\n",
        "best_params = {'alpha': 0.06}\n",
        "nb_tf = MultinomialNB(**best_params)\n",
        "nb_tf.fit(train_tf, train.Functionality)\n",
        "\n",
        "best_params = {'kernel': 'linear', 'C': 1}\n",
        "svc_tf = SVC(**best_params, class_weight='balanced', probability=True)\n",
        "svc_tf.fit(train_tf, train.Functionality)\n",
        "\n",
        "\n",
        "\n",
        "pred1 = m.predict_proba(test_cv)\n",
        "pred2 = nb.predict_proba(test_cv)\n",
        "pred3 = nb2.predict_proba(test_cv)\n",
        "pred4 = m_tf.predict_proba(test_tf)\n",
        "pred5 = nb_tf.predict_proba(test_tf)\n",
        "pred6 = svc_tf.predict_proba(test_tf)\n",
        "\n",
        "test_pred_prob = np.mean([pred1, pred2, pred3, pred4, pred5, pred6], axis=0)\n",
        "pred_Functionality = np.argmax(test_pred_prob, axis=1)"
      ],
      "metadata": {
        "colab": {
          "base_uri": "https://localhost:8080/"
        },
        "id": "U-ANWH675gPz",
        "outputId": "9b160ebf-ae60-4b48-de44-020cd6b6e1d5"
      },
      "execution_count": null,
      "outputs": [
        {
          "output_type": "stream",
          "name": "stderr",
          "text": [
            "/usr/local/lib/python3.7/dist-packages/sklearn/linear_model/_logistic.py:818: ConvergenceWarning: lbfgs failed to converge (status=1):\n",
            "STOP: TOTAL NO. of ITERATIONS REACHED LIMIT.\n",
            "\n",
            "Increase the number of iterations (max_iter) or scale the data as shown in:\n",
            "    https://scikit-learn.org/stable/modules/preprocessing.html\n",
            "Please also refer to the documentation for alternative solver options:\n",
            "    https://scikit-learn.org/stable/modules/linear_model.html#logistic-regression\n",
            "  extra_warning_msg=_LOGISTIC_SOLVER_CONVERGENCE_MSG,\n"
          ]
        }
      ]
    },
    {
      "cell_type": "code",
      "source": [
        "#installation\n",
        "best_params = {'C': 0.9, 'max_iter': 100, 'multi_class': 'ovr', 'penalty': 'l2'}\n",
        "m = LogisticRegression(**best_params, class_weight='balanced')\n",
        "m.fit(train_cv, train.Installation)\n",
        "\n",
        "best_params = {'alpha': 0.5}\n",
        "nb = MultinomialNB(**best_params)\n",
        "nb.fit(train_cv, train.Installation)\n",
        "\n",
        "best_params = {'alpha': 5e-08}\n",
        "nb2 = BernoulliNB(**best_params)\n",
        "nb2.fit(train_cv, train.Installation)\n",
        "\n",
        "best_params = {'C': 250, 'max_iter': 100, 'multi_class': 'ovr', 'penalty': 'l2'}\n",
        "m_tf = LogisticRegression(**best_params, class_weight='balanced')\n",
        "m_tf.fit(train_tf, train.Installation)\n",
        "\n",
        "best_params = {'alpha': 0.06}\n",
        "nb_tf = MultinomialNB(**best_params)\n",
        "nb_tf.fit(train_tf, train.Installation)\n",
        "\n",
        "best_params = {'kernel': 'linear', 'C': 1}\n",
        "svc_tf = SVC(**best_params, class_weight='balanced', probability=True)\n",
        "svc_tf.fit(train_tf, train.Installation)\n",
        "\n",
        "\n",
        "\n",
        "pred1 = m.predict_proba(test_cv)\n",
        "pred2 = nb.predict_proba(test_cv)\n",
        "pred3 = nb2.predict_proba(test_cv)\n",
        "pred4 = m_tf.predict_proba(test_tf)\n",
        "pred5 = nb_tf.predict_proba(test_tf)\n",
        "pred6 = svc_tf.predict_proba(test_tf)\n",
        "\n",
        "test_pred_prob = np.mean([pred1, pred2, pred3, pred4, pred5, pred6], axis=0)\n",
        "pred_Installation = np.argmax(test_pred_prob, axis=1)"
      ],
      "metadata": {
        "id": "01E2EaTx5ikb"
      },
      "execution_count": null,
      "outputs": []
    },
    {
      "cell_type": "code",
      "source": [
        "train.columns"
      ],
      "metadata": {
        "colab": {
          "base_uri": "https://localhost:8080/"
        },
        "id": "QN13BpQp_D38",
        "outputId": "08761c85-d964-4a5d-cd28-eaf3a46265c4"
      },
      "execution_count": null,
      "outputs": [
        {
          "output_type": "execute_result",
          "data": {
            "text/plain": [
              "Index(['Id', 'Review', 'Components', 'Delivery_Customer_Support',\n",
              "       'Design_Aesthetics', 'Dimensions', 'Features', 'Functionality',\n",
              "       'Installation', 'Material', 'Price', 'Quality', 'Usability',\n",
              "       'Polarity'],\n",
              "      dtype='object')"
            ]
          },
          "metadata": {},
          "execution_count": 46
        }
      ]
    },
    {
      "cell_type": "code",
      "source": [
        "#Material\n",
        "best_params = {'C': 0.9, 'max_iter': 100, 'multi_class': 'ovr', 'penalty': 'l2'}\n",
        "m = LogisticRegression(**best_params, class_weight='balanced')\n",
        "m.fit(train_cv, train.Material)\n",
        "\n",
        "best_params = {'alpha': 0.5}\n",
        "nb = MultinomialNB(**best_params)\n",
        "nb.fit(train_cv, train.Material)\n",
        "\n",
        "best_params = {'alpha': 5e-08}\n",
        "nb2 = BernoulliNB(**best_params)\n",
        "nb2.fit(train_cv, train.Material)\n",
        "\n",
        "best_params = {'C': 250, 'max_iter': 100, 'multi_class': 'ovr', 'penalty': 'l2'}\n",
        "m_tf = LogisticRegression(**best_params, class_weight='balanced')\n",
        "m_tf.fit(train_tf, train.Material)\n",
        "\n",
        "best_params = {'alpha': 0.06}\n",
        "nb_tf = MultinomialNB(**best_params)\n",
        "nb_tf.fit(train_tf, train.Material)\n",
        "\n",
        "best_params = {'kernel': 'linear', 'C': 1}\n",
        "svc_tf = SVC(**best_params, class_weight='balanced', probability=True)\n",
        "svc_tf.fit(train_tf, train.Material)\n",
        "\n",
        "\n",
        "\n",
        "pred1 = m.predict_proba(test_cv)\n",
        "pred2 = nb.predict_proba(test_cv)\n",
        "pred3 = nb2.predict_proba(test_cv)\n",
        "pred4 = m_tf.predict_proba(test_tf)\n",
        "pred5 = nb_tf.predict_proba(test_tf)\n",
        "pred6 = svc_tf.predict_proba(test_tf)\n",
        "\n",
        "test_pred_prob = np.mean([pred1, pred2, pred3, pred4, pred5, pred6], axis=0)\n",
        "pred_Material = np.argmax(test_pred_prob, axis=1)"
      ],
      "metadata": {
        "colab": {
          "base_uri": "https://localhost:8080/"
        },
        "id": "cpHIoQ1L5lFt",
        "outputId": "7dafbbd6-3d55-4954-95f5-226b08bd6abc"
      },
      "execution_count": null,
      "outputs": [
        {
          "output_type": "stream",
          "name": "stderr",
          "text": [
            "/usr/local/lib/python3.7/dist-packages/sklearn/linear_model/_logistic.py:818: ConvergenceWarning: lbfgs failed to converge (status=1):\n",
            "STOP: TOTAL NO. of ITERATIONS REACHED LIMIT.\n",
            "\n",
            "Increase the number of iterations (max_iter) or scale the data as shown in:\n",
            "    https://scikit-learn.org/stable/modules/preprocessing.html\n",
            "Please also refer to the documentation for alternative solver options:\n",
            "    https://scikit-learn.org/stable/modules/linear_model.html#logistic-regression\n",
            "  extra_warning_msg=_LOGISTIC_SOLVER_CONVERGENCE_MSG,\n"
          ]
        }
      ]
    },
    {
      "cell_type": "code",
      "source": [
        "#Price\n",
        "best_params = {'C': 0.9, 'max_iter': 100, 'multi_class': 'ovr', 'penalty': 'l2'}\n",
        "m = LogisticRegression(**best_params, class_weight='balanced')\n",
        "m.fit(train_cv, train.Price)\n",
        "\n",
        "best_params = {'alpha': 0.5}\n",
        "nb = MultinomialNB(**best_params)\n",
        "nb.fit(train_cv, train.Price)\n",
        "\n",
        "best_params = {'alpha': 5e-08}\n",
        "nb2 = BernoulliNB(**best_params)\n",
        "nb2.fit(train_cv, train.Price)\n",
        "\n",
        "best_params = {'C': 250, 'max_iter': 100, 'multi_class': 'ovr', 'penalty': 'l2'}\n",
        "m_tf = LogisticRegression(**best_params, class_weight='balanced')\n",
        "m_tf.fit(train_tf, train.Price)\n",
        "\n",
        "best_params = {'alpha': 0.06}\n",
        "nb_tf = MultinomialNB(**best_params)\n",
        "nb_tf.fit(train_tf, train.Price)\n",
        "\n",
        "best_params = {'kernel': 'linear', 'C': 1}\n",
        "svc_tf = SVC(**best_params, class_weight='balanced', probability=True)\n",
        "svc_tf.fit(train_tf, train.Price)\n",
        "\n",
        "\n",
        "\n",
        "pred1 = m.predict_proba(test_cv)\n",
        "pred2 = nb.predict_proba(test_cv)\n",
        "pred3 = nb2.predict_proba(test_cv)\n",
        "pred4 = m_tf.predict_proba(test_tf)\n",
        "pred5 = nb_tf.predict_proba(test_tf)\n",
        "pred6 = svc_tf.predict_proba(test_tf)\n",
        "\n",
        "test_pred_prob = np.mean([pred1, pred2, pred3, pred4, pred5, pred6], axis=0)\n",
        "pred_Price = np.argmax(test_pred_prob, axis=1)"
      ],
      "metadata": {
        "colab": {
          "base_uri": "https://localhost:8080/"
        },
        "id": "hQtvT3_a5nuV",
        "outputId": "08771f0b-a2d4-46a2-e940-1674e28c65f8"
      },
      "execution_count": null,
      "outputs": [
        {
          "output_type": "stream",
          "name": "stderr",
          "text": [
            "/usr/local/lib/python3.7/dist-packages/sklearn/linear_model/_logistic.py:818: ConvergenceWarning: lbfgs failed to converge (status=1):\n",
            "STOP: TOTAL NO. of ITERATIONS REACHED LIMIT.\n",
            "\n",
            "Increase the number of iterations (max_iter) or scale the data as shown in:\n",
            "    https://scikit-learn.org/stable/modules/preprocessing.html\n",
            "Please also refer to the documentation for alternative solver options:\n",
            "    https://scikit-learn.org/stable/modules/linear_model.html#logistic-regression\n",
            "  extra_warning_msg=_LOGISTIC_SOLVER_CONVERGENCE_MSG,\n"
          ]
        }
      ]
    },
    {
      "cell_type": "code",
      "source": [
        "#Quality\n",
        "best_params = {'C': 0.9, 'max_iter': 100, 'multi_class': 'ovr', 'penalty': 'l2'}\n",
        "m = LogisticRegression(**best_params, class_weight='balanced')\n",
        "m.fit(train_cv, train.Quality)\n",
        "\n",
        "best_params = {'alpha': 0.5}\n",
        "nb = MultinomialNB(**best_params)\n",
        "nb.fit(train_cv, train.Quality)\n",
        "\n",
        "best_params = {'alpha': 5e-08}\n",
        "nb2 = BernoulliNB(**best_params)\n",
        "nb2.fit(train_cv, train.Quality)\n",
        "\n",
        "best_params = {'C': 250, 'max_iter': 100, 'multi_class': 'ovr', 'penalty': 'l2'}\n",
        "m_tf = LogisticRegression(**best_params, class_weight='balanced')\n",
        "m_tf.fit(train_tf, train.Quality)\n",
        "\n",
        "best_params = {'alpha': 0.06}\n",
        "nb_tf = MultinomialNB(**best_params)\n",
        "nb_tf.fit(train_tf, train.Quality)\n",
        "\n",
        "best_params = {'kernel': 'linear', 'C': 1}\n",
        "svc_tf = SVC(**best_params, class_weight='balanced', probability=True)\n",
        "svc_tf.fit(train_tf, train.Quality)\n",
        "\n",
        "\n",
        "\n",
        "pred1 = m.predict_proba(test_cv)\n",
        "pred2 = nb.predict_proba(test_cv)\n",
        "pred3 = nb2.predict_proba(test_cv)\n",
        "pred4 = m_tf.predict_proba(test_tf)\n",
        "pred5 = nb_tf.predict_proba(test_tf)\n",
        "pred6 = svc_tf.predict_proba(test_tf)\n",
        "\n",
        "test_pred_prob = np.mean([pred1, pred2, pred3, pred4, pred5, pred6], axis=0)\n",
        "pred_Quality = np.argmax(test_pred_prob, axis=1)"
      ],
      "metadata": {
        "colab": {
          "base_uri": "https://localhost:8080/"
        },
        "id": "aElTw1kQ5pd5",
        "outputId": "73976042-8b6c-4287-9b9d-6570f1bb18ad"
      },
      "execution_count": null,
      "outputs": [
        {
          "output_type": "stream",
          "name": "stderr",
          "text": [
            "/usr/local/lib/python3.7/dist-packages/sklearn/linear_model/_logistic.py:818: ConvergenceWarning: lbfgs failed to converge (status=1):\n",
            "STOP: TOTAL NO. of ITERATIONS REACHED LIMIT.\n",
            "\n",
            "Increase the number of iterations (max_iter) or scale the data as shown in:\n",
            "    https://scikit-learn.org/stable/modules/preprocessing.html\n",
            "Please also refer to the documentation for alternative solver options:\n",
            "    https://scikit-learn.org/stable/modules/linear_model.html#logistic-regression\n",
            "  extra_warning_msg=_LOGISTIC_SOLVER_CONVERGENCE_MSG,\n"
          ]
        }
      ]
    },
    {
      "cell_type": "code",
      "source": [
        "#Usability\n",
        "best_params = {'C': 0.9, 'max_iter': 100, 'multi_class': 'ovr', 'penalty': 'l2'}\n",
        "m = LogisticRegression(**best_params, class_weight='balanced')\n",
        "m.fit(train_cv, train.Usability)\n",
        "\n",
        "best_params = {'alpha': 0.5}\n",
        "nb = MultinomialNB(**best_params)\n",
        "nb.fit(train_cv, train.Usability)\n",
        "\n",
        "best_params = {'alpha': 5e-08}\n",
        "nb2 = BernoulliNB(**best_params)\n",
        "nb2.fit(train_cv, train.Usability)\n",
        "\n",
        "best_params = {'C': 250, 'max_iter': 100, 'multi_class': 'ovr', 'penalty': 'l2'}\n",
        "m_tf = LogisticRegression(**best_params, class_weight='balanced')\n",
        "m_tf.fit(train_tf, train.Usability)\n",
        "\n",
        "best_params = {'alpha': 0.06}\n",
        "nb_tf = MultinomialNB(**best_params)\n",
        "nb_tf.fit(train_tf, train.Usability)\n",
        "\n",
        "best_params = {'kernel': 'linear', 'C': 1}\n",
        "svc_tf = SVC(**best_params, class_weight='balanced', probability=True)\n",
        "svc_tf.fit(train_tf, train.Usability)\n",
        "\n",
        "\n",
        "\n",
        "pred1 = m.predict_proba(test_cv)\n",
        "pred2 = nb.predict_proba(test_cv)\n",
        "pred3 = nb2.predict_proba(test_cv)\n",
        "pred4 = m_tf.predict_proba(test_tf)\n",
        "pred5 = nb_tf.predict_proba(test_tf)\n",
        "pred6 = svc_tf.predict_proba(test_tf)\n",
        "\n",
        "test_pred_prob = np.mean([pred1, pred2, pred3, pred4, pred5, pred6], axis=0)\n",
        "pred_Usability = np.argmax(test_pred_prob, axis=1)"
      ],
      "metadata": {
        "colab": {
          "base_uri": "https://localhost:8080/"
        },
        "id": "jIIbmlok5sez",
        "outputId": "24418147-c123-403d-fc21-fd9e74c6e4d2"
      },
      "execution_count": null,
      "outputs": [
        {
          "output_type": "stream",
          "name": "stderr",
          "text": [
            "/usr/local/lib/python3.7/dist-packages/sklearn/linear_model/_logistic.py:818: ConvergenceWarning: lbfgs failed to converge (status=1):\n",
            "STOP: TOTAL NO. of ITERATIONS REACHED LIMIT.\n",
            "\n",
            "Increase the number of iterations (max_iter) or scale the data as shown in:\n",
            "    https://scikit-learn.org/stable/modules/preprocessing.html\n",
            "Please also refer to the documentation for alternative solver options:\n",
            "    https://scikit-learn.org/stable/modules/linear_model.html#logistic-regression\n",
            "  extra_warning_msg=_LOGISTIC_SOLVER_CONVERGENCE_MSG,\n"
          ]
        }
      ]
    },
    {
      "cell_type": "code",
      "source": [
        "#Polarity\n",
        "best_params = {'C': 0.9, 'max_iter': 100, 'multi_class': 'ovr', 'penalty': 'l2'}\n",
        "m = LogisticRegression(**best_params, class_weight='balanced')\n",
        "m.fit(train_cv, train.Polarity)\n",
        "\n",
        "best_params = {'alpha': 0.5}\n",
        "nb = MultinomialNB(**best_params)\n",
        "nb.fit(train_cv, train.Polarity)\n",
        "\n",
        "best_params = {'alpha': 5e-08}\n",
        "nb2 = BernoulliNB(**best_params)\n",
        "nb2.fit(train_cv, train.Polarity)\n",
        "\n",
        "best_params = {'C': 250, 'max_iter': 100, 'multi_class': 'ovr', 'penalty': 'l2'}\n",
        "m_tf = LogisticRegression(**best_params, class_weight='balanced')\n",
        "m_tf.fit(train_tf, train.Polarity)\n",
        "\n",
        "best_params = {'alpha': 0.06}\n",
        "nb_tf = MultinomialNB(**best_params)\n",
        "nb_tf.fit(train_tf, train.Polarity)\n",
        "\n",
        "best_params = {'kernel': 'linear', 'C': 1}\n",
        "svc_tf = SVC(**best_params, class_weight='balanced', probability=True)\n",
        "svc_tf.fit(train_tf, train.Polarity)\n",
        "\n",
        "\n",
        "\n",
        "pred1 = m.predict_proba(test_cv)\n",
        "pred2 = nb.predict_proba(test_cv)\n",
        "pred3 = nb2.predict_proba(test_cv)\n",
        "pred4 = m_tf.predict_proba(test_tf)\n",
        "pred5 = nb_tf.predict_proba(test_tf)\n",
        "pred6 = svc_tf.predict_proba(test_tf)\n",
        "\n",
        "test_pred_prob = np.mean([pred1, pred2, pred3, pred4, pred5, pred6], axis=0)\n",
        "print(test_pred_prob)\n",
        "pred_Polarity = np.argmax(test_pred_prob, axis=1)\n",
        "print(pred_Polarity)"
      ],
      "metadata": {
        "colab": {
          "base_uri": "https://localhost:8080/"
        },
        "id": "wjqXJ1U45uxx",
        "outputId": "7f4d158f-4107-4e41-cde9-3d0021f41df7"
      },
      "execution_count": null,
      "outputs": [
        {
          "output_type": "stream",
          "name": "stderr",
          "text": [
            "/usr/local/lib/python3.7/dist-packages/sklearn/linear_model/_logistic.py:818: ConvergenceWarning: lbfgs failed to converge (status=1):\n",
            "STOP: TOTAL NO. of ITERATIONS REACHED LIMIT.\n",
            "\n",
            "Increase the number of iterations (max_iter) or scale the data as shown in:\n",
            "    https://scikit-learn.org/stable/modules/preprocessing.html\n",
            "Please also refer to the documentation for alternative solver options:\n",
            "    https://scikit-learn.org/stable/modules/linear_model.html#logistic-regression\n",
            "  extra_warning_msg=_LOGISTIC_SOLVER_CONVERGENCE_MSG,\n"
          ]
        },
        {
          "output_type": "stream",
          "name": "stdout",
          "text": [
            "[[0.96641001 0.03358999]\n",
            " [0.15663102 0.84336898]\n",
            " [0.00843257 0.99156743]\n",
            " ...\n",
            " [0.01002148 0.98997852]\n",
            " [0.01557233 0.98442767]\n",
            " [0.00646641 0.99353359]]\n",
            "[0 1 1 ... 1 1 1]\n"
          ]
        }
      ]
    },
    {
      "cell_type": "code",
      "source": [
        "train.columns"
      ],
      "metadata": {
        "colab": {
          "base_uri": "https://localhost:8080/"
        },
        "id": "79FKf4cxAEho",
        "outputId": "b186c805-a4d6-408c-e7cc-f88dc88b026e"
      },
      "execution_count": null,
      "outputs": [
        {
          "output_type": "execute_result",
          "data": {
            "text/plain": [
              "Index(['Id', 'Review', 'Components', 'Delivery_Customer_Support',\n",
              "       'Design_Aesthetics', 'Dimensions', 'Features', 'Functionality',\n",
              "       'Installation', 'Material', 'Price', 'Quality', 'Usability',\n",
              "       'Polarity'],\n",
              "      dtype='object')"
            ]
          },
          "metadata": {},
          "execution_count": 52
        }
      ]
    },
    {
      "cell_type": "markdown",
      "source": [
        "## 4.Ensembing learning"
      ],
      "metadata": {
        "id": "ShMlixE_fNRy"
      }
    },
    {
      "cell_type": "code",
      "source": [
        "sub.columns"
      ],
      "metadata": {
        "id": "m-4zX9o8cIUh",
        "colab": {
          "base_uri": "https://localhost:8080/"
        },
        "outputId": "1d7099bf-67dc-4032-f8bd-55ee02c38b0e"
      },
      "execution_count": null,
      "outputs": [
        {
          "output_type": "execute_result",
          "data": {
            "text/plain": [
              "Index(['Components', 'Delivery and Customer Support', 'Design and Aesthetics',\n",
              "       'Dimensions', 'Features', 'Functionality', 'Installation', 'Material',\n",
              "       'Price', 'Quality', 'Usability', 'Polarity'],\n",
              "      dtype='object')"
            ]
          },
          "metadata": {},
          "execution_count": 53
        }
      ]
    },
    {
      "cell_type": "code",
      "source": [
        "submission = pd.DataFrame()\n",
        "submission['Components'] = pred_Components.astype(int)\n",
        "submission['Delivery and Customer Support'] = pred_Delivery_Customer_Support.astype(int)\n",
        "submission['Design and Aesthetics'] = pred_Design_Aesthetics.astype(int)\n",
        "submission['Dimensions'] = pred_Dimensions.astype(int)\n",
        "submission['Features'] = pred_Features.astype(int)\n",
        "submission['Functionality'] = pred_Functionality.astype(int)\n",
        "submission['Installation'] = pred_Installation.astype(int)\n",
        "submission['Material'] = pred_Material.astype(int)\n",
        "submission['Price'] = pred_Price.astype(int)\n",
        "submission['Quality'] = pred_Quality.astype(int)\n",
        "submission['Usability'] = pred_Usability.astype(int)\n",
        "submission['Polarity'] = pred_Polarity.astype(int)\n",
        "\n",
        "submission.head()"
      ],
      "metadata": {
        "colab": {
          "base_uri": "https://localhost:8080/",
          "height": 302
        },
        "id": "1xyfGHKdcIRJ",
        "outputId": "831f97ce-4c02-4e6c-cb03-d8448379a593"
      },
      "execution_count": null,
      "outputs": [
        {
          "output_type": "execute_result",
          "data": {
            "text/html": [
              "\n",
              "  <div id=\"df-64bcaa50-cbb3-4a92-9657-2df4cab7d381\">\n",
              "    <div class=\"colab-df-container\">\n",
              "      <div>\n",
              "<style scoped>\n",
              "    .dataframe tbody tr th:only-of-type {\n",
              "        vertical-align: middle;\n",
              "    }\n",
              "\n",
              "    .dataframe tbody tr th {\n",
              "        vertical-align: top;\n",
              "    }\n",
              "\n",
              "    .dataframe thead th {\n",
              "        text-align: right;\n",
              "    }\n",
              "</style>\n",
              "<table border=\"1\" class=\"dataframe\">\n",
              "  <thead>\n",
              "    <tr style=\"text-align: right;\">\n",
              "      <th></th>\n",
              "      <th>Components</th>\n",
              "      <th>Delivery and Customer Support</th>\n",
              "      <th>Design and Aesthetics</th>\n",
              "      <th>Dimensions</th>\n",
              "      <th>Features</th>\n",
              "      <th>Functionality</th>\n",
              "      <th>Installation</th>\n",
              "      <th>Material</th>\n",
              "      <th>Price</th>\n",
              "      <th>Quality</th>\n",
              "      <th>Usability</th>\n",
              "      <th>Polarity</th>\n",
              "    </tr>\n",
              "  </thead>\n",
              "  <tbody>\n",
              "    <tr>\n",
              "      <th>0</th>\n",
              "      <td>1</td>\n",
              "      <td>0</td>\n",
              "      <td>0</td>\n",
              "      <td>0</td>\n",
              "      <td>0</td>\n",
              "      <td>0</td>\n",
              "      <td>0</td>\n",
              "      <td>0</td>\n",
              "      <td>0</td>\n",
              "      <td>1</td>\n",
              "      <td>0</td>\n",
              "      <td>0</td>\n",
              "    </tr>\n",
              "    <tr>\n",
              "      <th>1</th>\n",
              "      <td>0</td>\n",
              "      <td>0</td>\n",
              "      <td>0</td>\n",
              "      <td>0</td>\n",
              "      <td>0</td>\n",
              "      <td>1</td>\n",
              "      <td>0</td>\n",
              "      <td>0</td>\n",
              "      <td>0</td>\n",
              "      <td>0</td>\n",
              "      <td>0</td>\n",
              "      <td>1</td>\n",
              "    </tr>\n",
              "    <tr>\n",
              "      <th>2</th>\n",
              "      <td>0</td>\n",
              "      <td>0</td>\n",
              "      <td>0</td>\n",
              "      <td>0</td>\n",
              "      <td>0</td>\n",
              "      <td>0</td>\n",
              "      <td>0</td>\n",
              "      <td>0</td>\n",
              "      <td>0</td>\n",
              "      <td>0</td>\n",
              "      <td>1</td>\n",
              "      <td>1</td>\n",
              "    </tr>\n",
              "    <tr>\n",
              "      <th>3</th>\n",
              "      <td>0</td>\n",
              "      <td>0</td>\n",
              "      <td>0</td>\n",
              "      <td>0</td>\n",
              "      <td>0</td>\n",
              "      <td>1</td>\n",
              "      <td>0</td>\n",
              "      <td>0</td>\n",
              "      <td>0</td>\n",
              "      <td>1</td>\n",
              "      <td>0</td>\n",
              "      <td>1</td>\n",
              "    </tr>\n",
              "    <tr>\n",
              "      <th>4</th>\n",
              "      <td>0</td>\n",
              "      <td>0</td>\n",
              "      <td>0</td>\n",
              "      <td>0</td>\n",
              "      <td>0</td>\n",
              "      <td>0</td>\n",
              "      <td>0</td>\n",
              "      <td>0</td>\n",
              "      <td>0</td>\n",
              "      <td>0</td>\n",
              "      <td>0</td>\n",
              "      <td>1</td>\n",
              "    </tr>\n",
              "  </tbody>\n",
              "</table>\n",
              "</div>\n",
              "      <button class=\"colab-df-convert\" onclick=\"convertToInteractive('df-64bcaa50-cbb3-4a92-9657-2df4cab7d381')\"\n",
              "              title=\"Convert this dataframe to an interactive table.\"\n",
              "              style=\"display:none;\">\n",
              "        \n",
              "  <svg xmlns=\"http://www.w3.org/2000/svg\" height=\"24px\"viewBox=\"0 0 24 24\"\n",
              "       width=\"24px\">\n",
              "    <path d=\"M0 0h24v24H0V0z\" fill=\"none\"/>\n",
              "    <path d=\"M18.56 5.44l.94 2.06.94-2.06 2.06-.94-2.06-.94-.94-2.06-.94 2.06-2.06.94zm-11 1L8.5 8.5l.94-2.06 2.06-.94-2.06-.94L8.5 2.5l-.94 2.06-2.06.94zm10 10l.94 2.06.94-2.06 2.06-.94-2.06-.94-.94-2.06-.94 2.06-2.06.94z\"/><path d=\"M17.41 7.96l-1.37-1.37c-.4-.4-.92-.59-1.43-.59-.52 0-1.04.2-1.43.59L10.3 9.45l-7.72 7.72c-.78.78-.78 2.05 0 2.83L4 21.41c.39.39.9.59 1.41.59.51 0 1.02-.2 1.41-.59l7.78-7.78 2.81-2.81c.8-.78.8-2.07 0-2.86zM5.41 20L4 18.59l7.72-7.72 1.47 1.35L5.41 20z\"/>\n",
              "  </svg>\n",
              "      </button>\n",
              "      \n",
              "  <style>\n",
              "    .colab-df-container {\n",
              "      display:flex;\n",
              "      flex-wrap:wrap;\n",
              "      gap: 12px;\n",
              "    }\n",
              "\n",
              "    .colab-df-convert {\n",
              "      background-color: #E8F0FE;\n",
              "      border: none;\n",
              "      border-radius: 50%;\n",
              "      cursor: pointer;\n",
              "      display: none;\n",
              "      fill: #1967D2;\n",
              "      height: 32px;\n",
              "      padding: 0 0 0 0;\n",
              "      width: 32px;\n",
              "    }\n",
              "\n",
              "    .colab-df-convert:hover {\n",
              "      background-color: #E2EBFA;\n",
              "      box-shadow: 0px 1px 2px rgba(60, 64, 67, 0.3), 0px 1px 3px 1px rgba(60, 64, 67, 0.15);\n",
              "      fill: #174EA6;\n",
              "    }\n",
              "\n",
              "    [theme=dark] .colab-df-convert {\n",
              "      background-color: #3B4455;\n",
              "      fill: #D2E3FC;\n",
              "    }\n",
              "\n",
              "    [theme=dark] .colab-df-convert:hover {\n",
              "      background-color: #434B5C;\n",
              "      box-shadow: 0px 1px 3px 1px rgba(0, 0, 0, 0.15);\n",
              "      filter: drop-shadow(0px 1px 2px rgba(0, 0, 0, 0.3));\n",
              "      fill: #FFFFFF;\n",
              "    }\n",
              "  </style>\n",
              "\n",
              "      <script>\n",
              "        const buttonEl =\n",
              "          document.querySelector('#df-64bcaa50-cbb3-4a92-9657-2df4cab7d381 button.colab-df-convert');\n",
              "        buttonEl.style.display =\n",
              "          google.colab.kernel.accessAllowed ? 'block' : 'none';\n",
              "\n",
              "        async function convertToInteractive(key) {\n",
              "          const element = document.querySelector('#df-64bcaa50-cbb3-4a92-9657-2df4cab7d381');\n",
              "          const dataTable =\n",
              "            await google.colab.kernel.invokeFunction('convertToInteractive',\n",
              "                                                     [key], {});\n",
              "          if (!dataTable) return;\n",
              "\n",
              "          const docLinkHtml = 'Like what you see? Visit the ' +\n",
              "            '<a target=\"_blank\" href=https://colab.research.google.com/notebooks/data_table.ipynb>data table notebook</a>'\n",
              "            + ' to learn more about interactive tables.';\n",
              "          element.innerHTML = '';\n",
              "          dataTable['output_type'] = 'display_data';\n",
              "          await google.colab.output.renderOutput(dataTable, element);\n",
              "          const docLink = document.createElement('div');\n",
              "          docLink.innerHTML = docLinkHtml;\n",
              "          element.appendChild(docLink);\n",
              "        }\n",
              "      </script>\n",
              "    </div>\n",
              "  </div>\n",
              "  "
            ],
            "text/plain": [
              "   Components  Delivery and Customer Support  ...  Usability  Polarity\n",
              "0           1                              0  ...          0         0\n",
              "1           0                              0  ...          0         1\n",
              "2           0                              0  ...          1         1\n",
              "3           0                              0  ...          0         1\n",
              "4           0                              0  ...          0         1\n",
              "\n",
              "[5 rows x 12 columns]"
            ]
          },
          "metadata": {},
          "execution_count": 54
        }
      ]
    },
    {
      "cell_type": "code",
      "source": [
        "submission.to_excel(\"Hackathon_submission.xlsx\", index=None)\n"
      ],
      "metadata": {
        "id": "BXNiA6jEcIIZ"
      },
      "execution_count": null,
      "outputs": []
    },
    {
      "cell_type": "code",
      "source": [
        ""
      ],
      "metadata": {
        "id": "bNRsdBlfcIFp"
      },
      "execution_count": null,
      "outputs": []
    },
    {
      "cell_type": "code",
      "source": [
        ""
      ],
      "metadata": {
        "id": "YAtUwqeXcIC5"
      },
      "execution_count": null,
      "outputs": []
    },
    {
      "cell_type": "code",
      "source": [
        ""
      ],
      "metadata": {
        "id": "6UtpJLsOcH-6"
      },
      "execution_count": null,
      "outputs": []
    },
    {
      "cell_type": "code",
      "source": [
        ""
      ],
      "metadata": {
        "id": "uGQSNsrWcH5S"
      },
      "execution_count": null,
      "outputs": []
    }
  ]
}